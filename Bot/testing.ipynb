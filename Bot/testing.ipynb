{
 "cells": [
  {
   "cell_type": "code",
   "execution_count": 1,
   "metadata": {},
   "outputs": [],
   "source": [
    "API_KEY = \"e884248f986f1d587d8cfa36ff86271d04bafb10760399afd683bcad9936eb31\"\n",
    "API_SECRET = \"051b2190c5781275fd8948c99f832de2c6069a2018fa3d7b57d30cd0c34ad972\"\n",
    "\n",
    "\n",
    "DISCORD_WEBOOK = \"https://discord.com/api/webhooks/1116434688031080561/xbXI-ckVatax4VlR9Qb_e-9Zxj0frgaU8-PYCWvKVc_rqjzd1V67DsuJ4p84qM6knED9\""
   ]
  },
  {
   "cell_type": "code",
   "execution_count": 2,
   "metadata": {},
   "outputs": [],
   "source": [
    "from binance_api import Binance"
   ]
  },
  {
   "cell_type": "code",
   "execution_count": 3,
   "metadata": {},
   "outputs": [
    {
     "name": "stdout",
     "output_type": "stream",
     "text": [
      "Binance API initialized successfully\n"
     ]
    }
   ],
   "source": [
    "bb = Binance(API_KEY, API_SECRET,DISCORD_WEBOOK)"
   ]
  },
  {
   "cell_type": "code",
   "execution_count": 4,
   "metadata": {},
   "outputs": [
    {
     "data": {
      "text/plain": [
       "0"
      ]
     },
     "execution_count": 4,
     "metadata": {},
     "output_type": "execute_result"
    }
   ],
   "source": [
    "bb.get_position(\"BTC\")"
   ]
  },
  {
   "cell_type": "code",
   "execution_count": 5,
   "metadata": {},
   "outputs": [
    {
     "name": "stdout",
     "output_type": "stream",
     "text": [
      "Open Order: 3367962991 for BTCUSDT\n"
     ]
    },
    {
     "data": {
      "text/plain": [
       "True"
      ]
     },
     "execution_count": 5,
     "metadata": {},
     "output_type": "execute_result"
    }
   ],
   "source": [
    "bb.check_open_order(\"BTCUSDT\")"
   ]
  },
  {
   "cell_type": "code",
   "execution_count": 6,
   "metadata": {},
   "outputs": [
    {
     "data": {
      "text/plain": [
       "26389.38"
      ]
     },
     "execution_count": 6,
     "metadata": {},
     "output_type": "execute_result"
    }
   ],
   "source": [
    "bb.get_price(\"BTCUSDT\")"
   ]
  },
  {
   "cell_type": "code",
   "execution_count": 7,
   "metadata": {},
   "outputs": [
    {
     "name": "stdout",
     "output_type": "stream",
     "text": [
      "0.01\n"
     ]
    },
    {
     "data": {
      "text/plain": [
       "2"
      ]
     },
     "execution_count": 7,
     "metadata": {},
     "output_type": "execute_result"
    }
   ],
   "source": [
    "bb.get_tick_size(\"ETHUSDT\")"
   ]
  },
  {
   "cell_type": "code",
   "execution_count": 8,
   "metadata": {},
   "outputs": [
    {
     "name": "stdout",
     "output_type": "stream",
     "text": [
      "Deleting pending orders\n"
     ]
    }
   ],
   "source": [
    "bb.delete_pending_orders(\"BTCUSDT\")"
   ]
  },
  {
   "cell_type": "code",
   "execution_count": 9,
   "metadata": {},
   "outputs": [],
   "source": [
    "# bb.place_bracket_order(symbol=\"BTCUSDT\", side=\"BUY\", quantity=0.01)"
   ]
  },
  {
   "cell_type": "code",
   "execution_count": 1,
   "metadata": {},
   "outputs": [
    {
     "name": "stderr",
     "output_type": "stream",
     "text": [
      "you are using nologin method, data you access may be limited\n"
     ]
    }
   ],
   "source": [
    "from tvDatafeed import TvDatafeed, Interval\n",
    "tv = TvDatafeed()"
   ]
  },
  {
   "cell_type": "code",
   "execution_count": 3,
   "metadata": {},
   "outputs": [],
   "source": [
    "data =  tv.get_hist(symbol='BTCUSDT.P',exchange='Binance',interval=Interval.in_15_minute,n_bars=1000)\n",
    "  # namining the columns [\"Date\",\"PriceOpen\",\"PriceHigh\",\"PriceLow\",\"PriceClose\",\"Volume\"]\n",
    "  \n",
    "data = data.rename(columns={\"datetime\":\"Date\",\"open\":\"PriceOpen\",\"high\":\"PriceHigh\",\"low\":\"PriceLow\",\"close\":\"PriceClose\",\"volume\":\"Volume\"})\n",
    "  "
   ]
  },
  {
   "cell_type": "code",
   "execution_count": 5,
   "metadata": {},
   "outputs": [],
   "source": [
    "import pandas_ta\n",
    "macD = ta.macd(data[\"PriceClose\"], length_fast=12, length_slow=26, append=True)\n"
   ]
  },
  {
   "cell_type": "code",
   "execution_count": 10,
   "metadata": {},
   "outputs": [
    {
     "data": {
      "text/plain": [
       "datetime\n",
       "2023-05-29 14:00:00          NaN\n",
       "2023-05-29 14:15:00          NaN\n",
       "2023-05-29 14:30:00          NaN\n",
       "2023-05-29 14:45:00          NaN\n",
       "2023-05-29 15:00:00          NaN\n",
       "                         ...    \n",
       "2023-06-08 22:45:00    12.476914\n",
       "2023-06-08 23:00:00     5.864721\n",
       "2023-06-08 23:15:00     3.656710\n",
       "2023-06-08 23:30:00     7.668590\n",
       "2023-06-08 23:45:00     8.099908\n",
       "Freq: 15T, Name: MACD_12_26_9, Length: 1000, dtype: float64"
      ]
     },
     "execution_count": 10,
     "metadata": {},
     "output_type": "execute_result"
    }
   ],
   "source": [
    "macD[\"MACD_12_26_9\"]"
   ]
  }
 ],
 "metadata": {
  "kernelspec": {
   "display_name": "Python 3",
   "language": "python",
   "name": "python3"
  },
  "language_info": {
   "codemirror_mode": {
    "name": "ipython",
    "version": 3
   },
   "file_extension": ".py",
   "mimetype": "text/x-python",
   "name": "python",
   "nbconvert_exporter": "python",
   "pygments_lexer": "ipython3",
   "version": "3.11.3"
  },
  "orig_nbformat": 4
 },
 "nbformat": 4,
 "nbformat_minor": 2
}
